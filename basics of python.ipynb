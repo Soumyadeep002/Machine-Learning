{
 "cells": [
  {
   "cell_type": "markdown",
   "id": "477e21ff",
   "metadata": {},
   "source": [
    "# basics of python\n",
    "### variables & data type"
   ]
  },
  {
   "cell_type": "code",
   "execution_count": 6,
   "id": "a0eaf6f7",
   "metadata": {},
   "outputs": [
    {
     "name": "stdout",
     "output_type": "stream",
     "text": [
      "hello world\n"
     ]
    }
   ],
   "source": [
    "print(\"hello world\")\n",
    "name = \"Soumyadeep\"\n",
    "age= 21"
   ]
  },
  {
   "cell_type": "code",
   "execution_count": 7,
   "id": "4535e5e3",
   "metadata": {},
   "outputs": [
    {
     "name": "stdout",
     "output_type": "stream",
     "text": [
      "my name is Soumyadeep\n"
     ]
    }
   ],
   "source": [
    "print(f'my name is {name}')"
   ]
  },
  {
   "cell_type": "code",
   "execution_count": 8,
   "id": "a94e2129",
   "metadata": {},
   "outputs": [
    {
     "name": "stdout",
     "output_type": "stream",
     "text": [
      "data tyle of name is <class 'str'>\n"
     ]
    }
   ],
   "source": [
    "print(f'data tyle of name is {type(name)}')"
   ]
  },
  {
   "cell_type": "code",
   "execution_count": 9,
   "id": "495b3f26",
   "metadata": {},
   "outputs": [
    {
     "name": "stdout",
     "output_type": "stream",
     "text": [
      "my age is 21\n"
     ]
    }
   ],
   "source": [
    "print(f'my age is {age}')"
   ]
  },
  {
   "cell_type": "code",
   "execution_count": 10,
   "id": "ce4785a6",
   "metadata": {},
   "outputs": [
    {
     "name": "stdout",
     "output_type": "stream",
     "text": [
      "data type of age is <class 'int'>\n"
     ]
    }
   ],
   "source": [
    "print(f'data type of age is {type(age)}')"
   ]
  }
 ],
 "metadata": {
  "kernelspec": {
   "display_name": "Python 3 (ipykernel)",
   "language": "python",
   "name": "python3"
  },
  "language_info": {
   "codemirror_mode": {
    "name": "ipython",
    "version": 3
   },
   "file_extension": ".py",
   "mimetype": "text/x-python",
   "name": "python",
   "nbconvert_exporter": "python",
   "pygments_lexer": "ipython3",
   "version": "3.10.10"
  }
 },
 "nbformat": 4,
 "nbformat_minor": 5
}
